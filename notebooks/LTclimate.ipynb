{
 "cells": [
  {
   "cell_type": "markdown",
   "metadata": {
    "tags": []
   },
   "source": [
    "## JRN longterm climate trends\n",
    "\n",
    "USHCN Stations at Jornada:\n",
    "\n",
    "JORNADA EXPERIMENTAL RANGE: USH00294426  \n"
   ]
  },
  {
   "cell_type": "code",
   "execution_count": 13,
   "metadata": {},
   "outputs": [],
   "source": [
    "# Importing part of our climate tools module\n",
    "# If you don't have it see here: https://github.com/gremau/climtools\n",
    "import climtools.get_ushcn as ushcn\n",
    "\n",
    "# Import standard python modules for data and file handling\n",
    "import pandas as pd\n",
    "import numpy as np\n",
    "import matplotlib.pyplot as plt\n",
    "import os\n",
    "\n",
    "# Path to our USHCN data store we downloaded\n",
    "# Later versions of the data have had issues...\n",
    "ushcn_path = '/home/greg/data/rawdata/NCDC/ushcn_v2.5/ushcn.v2.5.5.20220609'"
   ]
  },
  {
   "cell_type": "code",
   "execution_count": 2,
   "metadata": {},
   "outputs": [
    {
     "name": "stdout",
     "output_type": "stream",
     "text": [
      "Retrieving /home/greg/data/rawdata/NCDC/ushcn_v2.5/ushcn-v2.5-stations.txt\n"
     ]
    },
    {
     "data": {
      "text/html": [
       "<div>\n",
       "<style scoped>\n",
       "    .dataframe tbody tr th:only-of-type {\n",
       "        vertical-align: middle;\n",
       "    }\n",
       "\n",
       "    .dataframe tbody tr th {\n",
       "        vertical-align: top;\n",
       "    }\n",
       "\n",
       "    .dataframe thead th {\n",
       "        text-align: right;\n",
       "    }\n",
       "</style>\n",
       "<table border=\"1\" class=\"dataframe\">\n",
       "  <thead>\n",
       "    <tr style=\"text-align: right;\">\n",
       "      <th></th>\n",
       "      <th>id</th>\n",
       "      <th>lat</th>\n",
       "      <th>lon</th>\n",
       "      <th>elev</th>\n",
       "      <th>state</th>\n",
       "      <th>name</th>\n",
       "      <th>comp1</th>\n",
       "      <th>comp2</th>\n",
       "      <th>comp3</th>\n",
       "      <th>utcoffset</th>\n",
       "    </tr>\n",
       "  </thead>\n",
       "  <tbody>\n",
       "    <tr>\n",
       "      <th>0</th>\n",
       "      <td>USH00011084</td>\n",
       "      <td>31.0581</td>\n",
       "      <td>-87.0547</td>\n",
       "      <td>25.9</td>\n",
       "      <td>AL</td>\n",
       "      <td>BREWTON 3 SSE</td>\n",
       "      <td>------</td>\n",
       "      <td>------</td>\n",
       "      <td>------</td>\n",
       "      <td>6</td>\n",
       "    </tr>\n",
       "    <tr>\n",
       "      <th>1</th>\n",
       "      <td>USH00012813</td>\n",
       "      <td>30.5467</td>\n",
       "      <td>-87.8808</td>\n",
       "      <td>7.0</td>\n",
       "      <td>AL</td>\n",
       "      <td>FAIRHOPE 2 NE</td>\n",
       "      <td>------</td>\n",
       "      <td>------</td>\n",
       "      <td>------</td>\n",
       "      <td>6</td>\n",
       "    </tr>\n",
       "    <tr>\n",
       "      <th>2</th>\n",
       "      <td>USH00013160</td>\n",
       "      <td>32.8347</td>\n",
       "      <td>-88.1342</td>\n",
       "      <td>38.1</td>\n",
       "      <td>AL</td>\n",
       "      <td>GAINESVILLE LOCK</td>\n",
       "      <td>011694</td>\n",
       "      <td>------</td>\n",
       "      <td>------</td>\n",
       "      <td>6</td>\n",
       "    </tr>\n",
       "    <tr>\n",
       "      <th>3</th>\n",
       "      <td>USH00013511</td>\n",
       "      <td>32.7017</td>\n",
       "      <td>-87.5808</td>\n",
       "      <td>67.1</td>\n",
       "      <td>AL</td>\n",
       "      <td>GREENSBORO</td>\n",
       "      <td>------</td>\n",
       "      <td>------</td>\n",
       "      <td>------</td>\n",
       "      <td>6</td>\n",
       "    </tr>\n",
       "    <tr>\n",
       "      <th>4</th>\n",
       "      <td>USH00013816</td>\n",
       "      <td>31.8700</td>\n",
       "      <td>-86.2542</td>\n",
       "      <td>132.0</td>\n",
       "      <td>AL</td>\n",
       "      <td>HIGHLAND HOME</td>\n",
       "      <td>------</td>\n",
       "      <td>------</td>\n",
       "      <td>------</td>\n",
       "      <td>6</td>\n",
       "    </tr>\n",
       "  </tbody>\n",
       "</table>\n",
       "</div>"
      ],
      "text/plain": [
       "            id      lat      lon   elev state              name   comp1  \\\n",
       "0  USH00011084  31.0581 -87.0547   25.9    AL     BREWTON 3 SSE  ------   \n",
       "1  USH00012813  30.5467 -87.8808    7.0    AL     FAIRHOPE 2 NE  ------   \n",
       "2  USH00013160  32.8347 -88.1342   38.1    AL  GAINESVILLE LOCK  011694   \n",
       "3  USH00013511  32.7017 -87.5808   67.1    AL        GREENSBORO  ------   \n",
       "4  USH00013816  31.8700 -86.2542  132.0    AL     HIGHLAND HOME  ------   \n",
       "\n",
       "    comp2   comp3  utcoffset  \n",
       "0  ------  ------          6  \n",
       "1  ------  ------          6  \n",
       "2  ------  ------          6  \n",
       "3  ------  ------          6  \n",
       "4  ------  ------          6  "
      ]
     },
     "execution_count": 2,
     "metadata": {},
     "output_type": "execute_result"
    }
   ],
   "source": [
    "# Get the inventory file for USHCN stations\n",
    "inventory = ushcn.get_stationsfile(os.path.dirname(ushcn_path))\n",
    "inventory.head()"
   ]
  },
  {
   "cell_type": "code",
   "execution_count": 3,
   "metadata": {},
   "outputs": [
    {
     "name": "stdout",
     "output_type": "stream",
     "text": [
      "              id      lat       lon    elev state               name   comp1  \\\n",
      "661  USH00294426  32.6169 -106.7411  1300.3    NM  JORNADA EXP RANGE  ------   \n",
      "\n",
      "      comp2   comp3  utcoffset  \n",
      "661  ------  ------          7  \n"
     ]
    }
   ],
   "source": [
    "search = inventory[inventory['name'].str.contains(\n",
    "    'JORNADA')]\n",
    "print(search)\n",
    "studystn = search.id.values.tolist()\n",
    "studystnnames = search.name.values.tolist()\n",
    "studystnlat = search.lat.values.tolist()"
   ]
  },
  {
   "cell_type": "code",
   "execution_count": 4,
   "metadata": {},
   "outputs": [
    {
     "name": "stdout",
     "output_type": "stream",
     "text": [
      "Opening /home/greg/data/rawdata/NCDC/ushcn_v2.5/ushcn.v2.5.5.20220609/USH00294426.FLs.52j.tavg\n",
      "Opening /home/greg/data/rawdata/NCDC/ushcn_v2.5/ushcn.v2.5.5.20220609/USH00294426.FLs.52j.prcp\n"
     ]
    }
   ],
   "source": [
    "# See functions, this will fetch precip and avg T, subset to site\n",
    "# drop flags, and convert to correct units\n",
    "tavg = ushcn.get_monthly_var('tavg', stationids=studystn, dpath=ushcn_path)\n",
    "prcp = ushcn.get_monthly_var('prcp', stationids=studystn, dpath=ushcn_path)\n",
    "# Then subset to years before 2022\n",
    "tavg = tavg.loc[tavg.year < 2022,:]\n",
    "prcp = prcp.loc[prcp.year < 2022,:]"
   ]
  },
  {
   "cell_type": "code",
   "execution_count": 5,
   "metadata": {},
   "outputs": [
    {
     "name": "stdout",
     "output_type": "stream",
     "text": [
      "0 USH00294426 JORNADA EXP RANGE 32.6169\n"
     ]
    }
   ],
   "source": [
    "tavg['station_name'] = ''\n",
    "tavg['latitude'] = np.nan\n",
    "prcp['station_name'] = ''\n",
    "prcp['latitude'] = np.nan\n",
    "for i in range(0, 1):\n",
    "    print(str(i) + ' ' + studystn[i] + ' ' + studystnnames[i] + ' ' + str(studystnlat[i]))\n",
    "    tavg.loc[tavg.stationid==studystn[i], 'station_name'] = studystnnames[i]\n",
    "    tavg.loc[tavg.stationid==studystn[i], 'latitude'] = studystnlat[i]\n",
    "    prcp.loc[prcp.stationid==studystn[i], 'station_name'] = studystnnames[i]\n",
    "    prcp.loc[prcp.stationid==studystn[i], 'latitude'] = studystnlat[i]\n",
    "    \n",
    "out = pd.concat([tavg, prcp])"
   ]
  },
  {
   "cell_type": "code",
   "execution_count": 6,
   "metadata": {},
   "outputs": [
    {
     "data": {
      "text/html": [
       "<div>\n",
       "<style scoped>\n",
       "    .dataframe tbody tr th:only-of-type {\n",
       "        vertical-align: middle;\n",
       "    }\n",
       "\n",
       "    .dataframe tbody tr th {\n",
       "        vertical-align: top;\n",
       "    }\n",
       "\n",
       "    .dataframe thead th {\n",
       "        text-align: right;\n",
       "    }\n",
       "</style>\n",
       "<table border=\"1\" class=\"dataframe\">\n",
       "  <thead>\n",
       "    <tr style=\"text-align: right;\">\n",
       "      <th></th>\n",
       "      <th>stationid</th>\n",
       "      <th>date</th>\n",
       "      <th>year</th>\n",
       "      <th>month</th>\n",
       "      <th>day</th>\n",
       "      <th>variable</th>\n",
       "      <th>value</th>\n",
       "      <th>station_name</th>\n",
       "      <th>latitude</th>\n",
       "    </tr>\n",
       "  </thead>\n",
       "  <tbody>\n",
       "    <tr>\n",
       "      <th>1046</th>\n",
       "      <td>USH00294426</td>\n",
       "      <td>2021-08-31</td>\n",
       "      <td>2021</td>\n",
       "      <td>aug</td>\n",
       "      <td>31</td>\n",
       "      <td>prcp</td>\n",
       "      <td>29.0</td>\n",
       "      <td>JORNADA EXP RANGE</td>\n",
       "      <td>32.6169</td>\n",
       "    </tr>\n",
       "    <tr>\n",
       "      <th>1177</th>\n",
       "      <td>USH00294426</td>\n",
       "      <td>2021-09-30</td>\n",
       "      <td>2021</td>\n",
       "      <td>sep</td>\n",
       "      <td>30</td>\n",
       "      <td>prcp</td>\n",
       "      <td>26.2</td>\n",
       "      <td>JORNADA EXP RANGE</td>\n",
       "      <td>32.6169</td>\n",
       "    </tr>\n",
       "    <tr>\n",
       "      <th>1308</th>\n",
       "      <td>USH00294426</td>\n",
       "      <td>2021-10-31</td>\n",
       "      <td>2021</td>\n",
       "      <td>oct</td>\n",
       "      <td>31</td>\n",
       "      <td>prcp</td>\n",
       "      <td>2.0</td>\n",
       "      <td>JORNADA EXP RANGE</td>\n",
       "      <td>32.6169</td>\n",
       "    </tr>\n",
       "    <tr>\n",
       "      <th>1439</th>\n",
       "      <td>USH00294426</td>\n",
       "      <td>2021-11-30</td>\n",
       "      <td>2021</td>\n",
       "      <td>nov</td>\n",
       "      <td>30</td>\n",
       "      <td>prcp</td>\n",
       "      <td>10.2</td>\n",
       "      <td>JORNADA EXP RANGE</td>\n",
       "      <td>32.6169</td>\n",
       "    </tr>\n",
       "    <tr>\n",
       "      <th>1570</th>\n",
       "      <td>USH00294426</td>\n",
       "      <td>2021-12-31</td>\n",
       "      <td>2021</td>\n",
       "      <td>dec</td>\n",
       "      <td>31</td>\n",
       "      <td>prcp</td>\n",
       "      <td>0.0</td>\n",
       "      <td>JORNADA EXP RANGE</td>\n",
       "      <td>32.6169</td>\n",
       "    </tr>\n",
       "  </tbody>\n",
       "</table>\n",
       "</div>"
      ],
      "text/plain": [
       "        stationid       date  year month  day variable  value  \\\n",
       "1046  USH00294426 2021-08-31  2021   aug   31     prcp   29.0   \n",
       "1177  USH00294426 2021-09-30  2021   sep   30     prcp   26.2   \n",
       "1308  USH00294426 2021-10-31  2021   oct   31     prcp    2.0   \n",
       "1439  USH00294426 2021-11-30  2021   nov   30     prcp   10.2   \n",
       "1570  USH00294426 2021-12-31  2021   dec   31     prcp    0.0   \n",
       "\n",
       "           station_name  latitude  \n",
       "1046  JORNADA EXP RANGE   32.6169  \n",
       "1177  JORNADA EXP RANGE   32.6169  \n",
       "1308  JORNADA EXP RANGE   32.6169  \n",
       "1439  JORNADA EXP RANGE   32.6169  \n",
       "1570  JORNADA EXP RANGE   32.6169  "
      ]
     },
     "execution_count": 6,
     "metadata": {},
     "output_type": "execute_result"
    }
   ],
   "source": [
    "out.to_csv('../data/Jornada_USHCN_monthlyclimate.csv', index=False)\n",
    "out.tail()"
   ]
  },
  {
   "cell_type": "code",
   "execution_count": 7,
   "metadata": {},
   "outputs": [
    {
     "data": {
      "text/html": [
       "<div>\n",
       "<style scoped>\n",
       "    .dataframe tbody tr th:only-of-type {\n",
       "        vertical-align: middle;\n",
       "    }\n",
       "\n",
       "    .dataframe tbody tr th {\n",
       "        vertical-align: top;\n",
       "    }\n",
       "\n",
       "    .dataframe thead th {\n",
       "        text-align: right;\n",
       "    }\n",
       "</style>\n",
       "<table border=\"1\" class=\"dataframe\">\n",
       "  <thead>\n",
       "    <tr style=\"text-align: right;\">\n",
       "      <th></th>\n",
       "      <th>station_name</th>\n",
       "      <th>latitude</th>\n",
       "      <th>year</th>\n",
       "      <th>value</th>\n",
       "      <th>variable</th>\n",
       "    </tr>\n",
       "  </thead>\n",
       "  <tbody>\n",
       "    <tr>\n",
       "      <th>107</th>\n",
       "      <td>JORNADA EXP RANGE</td>\n",
       "      <td>32.6169</td>\n",
       "      <td>2017</td>\n",
       "      <td>23.458333</td>\n",
       "      <td>prcp</td>\n",
       "    </tr>\n",
       "    <tr>\n",
       "      <th>108</th>\n",
       "      <td>JORNADA EXP RANGE</td>\n",
       "      <td>32.6169</td>\n",
       "      <td>2018</td>\n",
       "      <td>23.766667</td>\n",
       "      <td>prcp</td>\n",
       "    </tr>\n",
       "    <tr>\n",
       "      <th>109</th>\n",
       "      <td>JORNADA EXP RANGE</td>\n",
       "      <td>32.6169</td>\n",
       "      <td>2019</td>\n",
       "      <td>23.091667</td>\n",
       "      <td>prcp</td>\n",
       "    </tr>\n",
       "    <tr>\n",
       "      <th>110</th>\n",
       "      <td>JORNADA EXP RANGE</td>\n",
       "      <td>32.6169</td>\n",
       "      <td>2020</td>\n",
       "      <td>17.241667</td>\n",
       "      <td>prcp</td>\n",
       "    </tr>\n",
       "    <tr>\n",
       "      <th>111</th>\n",
       "      <td>JORNADA EXP RANGE</td>\n",
       "      <td>32.6169</td>\n",
       "      <td>2021</td>\n",
       "      <td>16.383333</td>\n",
       "      <td>prcp</td>\n",
       "    </tr>\n",
       "  </tbody>\n",
       "</table>\n",
       "</div>"
      ],
      "text/plain": [
       "          station_name  latitude  year      value variable\n",
       "107  JORNADA EXP RANGE   32.6169  2017  23.458333     prcp\n",
       "108  JORNADA EXP RANGE   32.6169  2018  23.766667     prcp\n",
       "109  JORNADA EXP RANGE   32.6169  2019  23.091667     prcp\n",
       "110  JORNADA EXP RANGE   32.6169  2020  17.241667     prcp\n",
       "111  JORNADA EXP RANGE   32.6169  2021  16.383333     prcp"
      ]
     },
     "execution_count": 7,
     "metadata": {},
     "output_type": "execute_result"
    }
   ],
   "source": [
    "gby = tavg.loc[tavg.date > '1910-01-01',:].groupby(['station_name','latitude','year'])\n",
    "annmean = gby.agg({'value': 'mean'}).reset_index()\n",
    "annmean['variable'] = 'tavg'\n",
    "gby = prcp.loc[prcp.date > '1910-01-01',:].groupby(['station_name','latitude','year'])\n",
    "annsum = gby.agg({'value': 'mean'}).reset_index()\n",
    "annsum['variable'] = 'prcp'\n",
    "annmean = pd.concat([annmean, annsum])\n",
    "\n",
    "annmean.tail()"
   ]
  },
  {
   "cell_type": "code",
   "execution_count": 8,
   "metadata": {},
   "outputs": [],
   "source": [
    "import seaborn as sns\n",
    "sns.set(rc={'axes.facecolor':'lightgrey', 'figure.facecolor':'white'})\n",
    "#sns.set_palette('colorblind')"
   ]
  },
  {
   "cell_type": "code",
   "execution_count": 9,
   "metadata": {},
   "outputs": [
    {
     "data": {
      "image/png": "[encoded data removed]",
      "text/plain": [
       "<Figure size 877.1x360 with 2 Axes>"
      ]
     },
     "metadata": {},
     "output_type": "display_data"
    }
   ],
   "source": [
    "g = sns.lmplot(x='year', y='value', hue='station_name', col='variable',\n",
    "lowess=True, data=annmean, facet_kws={'sharey':False})"
   ]
  },
  {
   "cell_type": "code",
   "execution_count": 10,
   "metadata": {},
   "outputs": [
    {
     "data": {
      "text/html": [
       "<div>\n",
       "<style scoped>\n",
       "    .dataframe tbody tr th:only-of-type {\n",
       "        vertical-align: middle;\n",
       "    }\n",
       "\n",
       "    .dataframe tbody tr th {\n",
       "        vertical-align: top;\n",
       "    }\n",
       "\n",
       "    .dataframe thead th {\n",
       "        text-align: right;\n",
       "    }\n",
       "</style>\n",
       "<table border=\"1\" class=\"dataframe\">\n",
       "  <thead>\n",
       "    <tr style=\"text-align: right;\">\n",
       "      <th></th>\n",
       "      <th>station_name</th>\n",
       "      <th>latitude</th>\n",
       "      <th>year</th>\n",
       "      <th>value</th>\n",
       "      <th>variable</th>\n",
       "    </tr>\n",
       "  </thead>\n",
       "  <tbody>\n",
       "    <tr>\n",
       "      <th>0</th>\n",
       "      <td>JORNADA EXP RANGE</td>\n",
       "      <td>32.6169</td>\n",
       "      <td>1910</td>\n",
       "      <td>8.283333</td>\n",
       "      <td>prcp</td>\n",
       "    </tr>\n",
       "    <tr>\n",
       "      <th>1</th>\n",
       "      <td>JORNADA EXP RANGE</td>\n",
       "      <td>32.6169</td>\n",
       "      <td>1911</td>\n",
       "      <td>19.608333</td>\n",
       "      <td>prcp</td>\n",
       "    </tr>\n",
       "    <tr>\n",
       "      <th>2</th>\n",
       "      <td>JORNADA EXP RANGE</td>\n",
       "      <td>32.6169</td>\n",
       "      <td>1912</td>\n",
       "      <td>18.891667</td>\n",
       "      <td>prcp</td>\n",
       "    </tr>\n",
       "    <tr>\n",
       "      <th>3</th>\n",
       "      <td>JORNADA EXP RANGE</td>\n",
       "      <td>32.6169</td>\n",
       "      <td>1913</td>\n",
       "      <td>16.816667</td>\n",
       "      <td>prcp</td>\n",
       "    </tr>\n",
       "    <tr>\n",
       "      <th>4</th>\n",
       "      <td>JORNADA EXP RANGE</td>\n",
       "      <td>32.6169</td>\n",
       "      <td>1914</td>\n",
       "      <td>24.933333</td>\n",
       "      <td>prcp</td>\n",
       "    </tr>\n",
       "    <tr>\n",
       "      <th>...</th>\n",
       "      <td>...</td>\n",
       "      <td>...</td>\n",
       "      <td>...</td>\n",
       "      <td>...</td>\n",
       "      <td>...</td>\n",
       "    </tr>\n",
       "    <tr>\n",
       "      <th>107</th>\n",
       "      <td>JORNADA EXP RANGE</td>\n",
       "      <td>32.6169</td>\n",
       "      <td>2017</td>\n",
       "      <td>23.458333</td>\n",
       "      <td>prcp</td>\n",
       "    </tr>\n",
       "    <tr>\n",
       "      <th>108</th>\n",
       "      <td>JORNADA EXP RANGE</td>\n",
       "      <td>32.6169</td>\n",
       "      <td>2018</td>\n",
       "      <td>23.766667</td>\n",
       "      <td>prcp</td>\n",
       "    </tr>\n",
       "    <tr>\n",
       "      <th>109</th>\n",
       "      <td>JORNADA EXP RANGE</td>\n",
       "      <td>32.6169</td>\n",
       "      <td>2019</td>\n",
       "      <td>23.091667</td>\n",
       "      <td>prcp</td>\n",
       "    </tr>\n",
       "    <tr>\n",
       "      <th>110</th>\n",
       "      <td>JORNADA EXP RANGE</td>\n",
       "      <td>32.6169</td>\n",
       "      <td>2020</td>\n",
       "      <td>17.241667</td>\n",
       "      <td>prcp</td>\n",
       "    </tr>\n",
       "    <tr>\n",
       "      <th>111</th>\n",
       "      <td>JORNADA EXP RANGE</td>\n",
       "      <td>32.6169</td>\n",
       "      <td>2021</td>\n",
       "      <td>16.383333</td>\n",
       "      <td>prcp</td>\n",
       "    </tr>\n",
       "  </tbody>\n",
       "</table>\n",
       "<p>112 rows × 5 columns</p>\n",
       "</div>"
      ],
      "text/plain": [
       "          station_name  latitude  year      value variable\n",
       "0    JORNADA EXP RANGE   32.6169  1910   8.283333     prcp\n",
       "1    JORNADA EXP RANGE   32.6169  1911  19.608333     prcp\n",
       "2    JORNADA EXP RANGE   32.6169  1912  18.891667     prcp\n",
       "3    JORNADA EXP RANGE   32.6169  1913  16.816667     prcp\n",
       "4    JORNADA EXP RANGE   32.6169  1914  24.933333     prcp\n",
       "..                 ...       ...   ...        ...      ...\n",
       "107  JORNADA EXP RANGE   32.6169  2017  23.458333     prcp\n",
       "108  JORNADA EXP RANGE   32.6169  2018  23.766667     prcp\n",
       "109  JORNADA EXP RANGE   32.6169  2019  23.091667     prcp\n",
       "110  JORNADA EXP RANGE   32.6169  2020  17.241667     prcp\n",
       "111  JORNADA EXP RANGE   32.6169  2021  16.383333     prcp\n",
       "\n",
       "[112 rows x 5 columns]"
      ]
     },
     "execution_count": 10,
     "metadata": {},
     "output_type": "execute_result"
    }
   ],
   "source": [
    "annmean[annmean.variable=='prcp']"
   ]
  },
  {
   "cell_type": "code",
   "execution_count": 14,
   "metadata": {},
   "outputs": [
    {
     "data": {
      "image/png": "[encoded data removed]",
      "text/plain": [
       "<Figure size 396x252 with 1 Axes>"
      ]
     },
     "metadata": {},
     "output_type": "display_data"
    }
   ],
   "source": [
    "ann_piv = annmean[annmean.variable=='prcp'].pivot(index='year', columns='station_name', values='value')\n",
    "ann_piv['date'] = pd.to_datetime(ann_piv.index.astype(str) + '-12-31', format='%Y-%m-%d')\n",
    "ann_piv.index\n",
    "from scipy import stats\n",
    "\n",
    "fig, axes = plt.subplots(1,1, figsize=[5.5,3.5])\n",
    "\n",
    "#sns.set_palette('magma')\n",
    "slope, intercept, rv, pv, se = stats.linregress(ann_piv.index,ann_piv['JORNADA EXP RANGE'])\n",
    "sns.regplot(ax=axes, x=ann_piv.index, y='JORNADA EXP RANGE', ci=False,\n",
    "            data=ann_piv, label=\"JORNADA EXP RANGE\\n($R^2$={0:.2f}, p={1:.2f})\".format(rv**2, pv),\n",
    "            marker='.', line_kws={'lw':'1.5','zorder':11},\n",
    "            scatter_kws={'zorder':10})\n",
    "\n",
    "axes.legend(bbox_to_anchor=(1,.9),loc=\"upper left\")\n",
    "#axes[0].set_xlim([1960, 2020])\n",
    "axes.set_ylabel('Annual precip. (mm)')\n",
    "axes.set_xlabel('Year')\n",
    "\n",
    "fig.savefig('../fig/Jornada_ltprecip.png',dpi=500,bbox_inches='tight', facecolor='white')"
   ]
  },
  {
   "cell_type": "code",
   "execution_count": 15,
   "metadata": {},
   "outputs": [
    {
     "data": {
      "image/png": "[encoded data removed]",
      "text/plain": [
       "<Figure size 432x288 with 1 Axes>"
      ]
     },
     "metadata": {},
     "output_type": "display_data"
    }
   ],
   "source": [
    "spei = pd.read_csv('../data/Jornada_USHCN_12moSPEI.csv')\n",
    "spei.index = pd.to_datetime(spei.date)\n",
    "g = sns.lineplot(x=spei.index, y='value', estimator=None, hue='station_name', data=spei)\n",
    "plt.hlines(y=0, xmin=spei.index.min(), xmax=spei.index.max(), color='black', ls=':')\n",
    "plt.legend(loc='upper left')\n",
    "plt.xlim([spei.index.min(), spei.index.max()])\n",
    "plt.ylabel('12-mo SPEI')\n",
    "plt.savefig('../fig/Jornada_ltSPEI.png',dpi=200,bbox_inches='tight', facecolor='white')"
   ]
  },
  {
   "cell_type": "markdown",
   "metadata": {},
   "source": [
    "## TEST GHCN data"
   ]
  },
  {
   "cell_type": "code",
   "execution_count": 16,
   "metadata": {},
   "outputs": [],
   "source": [
    "# Import GHCN tools and get station file\n",
    "import climtools.get_ghcn as ghcn\n",
    "ghcnd_inv = ghcn.get_stationsfile()"
   ]
  },
  {
   "cell_type": "code",
   "execution_count": 17,
   "metadata": {},
   "outputs": [
    {
     "name": "stdout",
     "output_type": "stream",
     "text": [
      "                 id      lat       lon    elev state               name  \\\n",
      "103786  USC00294426  32.6161 -106.7403  1316.1    NM  JORNADA EXP RANGE   \n",
      "\n",
      "       gsn_flag  hcn_crn_flag  wmo_id  \n",
      "103786      NaN           NaN     NaN  \n"
     ]
    }
   ],
   "source": [
    "search = ghcnd_inv[ghcnd_inv['name'].str.contains('JORNADA')]\n",
    "print(search)\n",
    "studystn = search.id.values.tolist()\n",
    "studystnnames = search.name.values.tolist()\n",
    "studystnlat = search.lat.values.tolist()"
   ]
  },
  {
   "cell_type": "code",
   "execution_count": 18,
   "metadata": {},
   "outputs": [
    {
     "data": {
      "text/html": [
       "<div>\n",
       "<style scoped>\n",
       "    .dataframe tbody tr th:only-of-type {\n",
       "        vertical-align: middle;\n",
       "    }\n",
       "\n",
       "    .dataframe tbody tr th {\n",
       "        vertical-align: top;\n",
       "    }\n",
       "\n",
       "    .dataframe thead th {\n",
       "        text-align: right;\n",
       "    }\n",
       "</style>\n",
       "<table border=\"1\" class=\"dataframe\">\n",
       "  <thead>\n",
       "    <tr style=\"text-align: right;\">\n",
       "      <th></th>\n",
       "      <th>STATION</th>\n",
       "      <th>DATE</th>\n",
       "      <th>PRCP</th>\n",
       "      <th>TAVG</th>\n",
       "      <th>TMAX</th>\n",
       "      <th>TMIN</th>\n",
       "      <th>year</th>\n",
       "      <th>month</th>\n",
       "    </tr>\n",
       "    <tr>\n",
       "      <th>DATE</th>\n",
       "      <th></th>\n",
       "      <th></th>\n",
       "      <th></th>\n",
       "      <th></th>\n",
       "      <th></th>\n",
       "      <th></th>\n",
       "      <th></th>\n",
       "      <th></th>\n",
       "    </tr>\n",
       "  </thead>\n",
       "  <tbody>\n",
       "    <tr>\n",
       "      <th>1914-12-31</th>\n",
       "      <td>USC00294426</td>\n",
       "      <td>1914-12-31</td>\n",
       "      <td>0.0</td>\n",
       "      <td>NaN</td>\n",
       "      <td>12.2</td>\n",
       "      <td>-7.8</td>\n",
       "      <td>1914</td>\n",
       "      <td>12</td>\n",
       "    </tr>\n",
       "    <tr>\n",
       "      <th>1915-01-01</th>\n",
       "      <td>USC00294426</td>\n",
       "      <td>1915-01-01</td>\n",
       "      <td>NaN</td>\n",
       "      <td>NaN</td>\n",
       "      <td>14.4</td>\n",
       "      <td>-8.9</td>\n",
       "      <td>1915</td>\n",
       "      <td>1</td>\n",
       "    </tr>\n",
       "    <tr>\n",
       "      <th>1915-01-02</th>\n",
       "      <td>USC00294426</td>\n",
       "      <td>1915-01-02</td>\n",
       "      <td>NaN</td>\n",
       "      <td>NaN</td>\n",
       "      <td>13.3</td>\n",
       "      <td>-3.9</td>\n",
       "      <td>1915</td>\n",
       "      <td>1</td>\n",
       "    </tr>\n",
       "    <tr>\n",
       "      <th>1915-01-03</th>\n",
       "      <td>USC00294426</td>\n",
       "      <td>1915-01-03</td>\n",
       "      <td>NaN</td>\n",
       "      <td>NaN</td>\n",
       "      <td>14.4</td>\n",
       "      <td>-5.0</td>\n",
       "      <td>1915</td>\n",
       "      <td>1</td>\n",
       "    </tr>\n",
       "    <tr>\n",
       "      <th>1915-01-04</th>\n",
       "      <td>USC00294426</td>\n",
       "      <td>1915-01-04</td>\n",
       "      <td>NaN</td>\n",
       "      <td>NaN</td>\n",
       "      <td>12.2</td>\n",
       "      <td>0.6</td>\n",
       "      <td>1915</td>\n",
       "      <td>1</td>\n",
       "    </tr>\n",
       "  </tbody>\n",
       "</table>\n",
       "</div>"
      ],
      "text/plain": [
       "                STATION        DATE  PRCP  TAVG  TMAX  TMIN  year  month\n",
       "DATE                                                                    \n",
       "1914-12-31  USC00294426  1914-12-31   0.0   NaN  12.2  -7.8  1914     12\n",
       "1915-01-01  USC00294426  1915-01-01   NaN   NaN  14.4  -8.9  1915      1\n",
       "1915-01-02  USC00294426  1915-01-02   NaN   NaN  13.3  -3.9  1915      1\n",
       "1915-01-03  USC00294426  1915-01-03   NaN   NaN  14.4  -5.0  1915      1\n",
       "1915-01-04  USC00294426  1915-01-04   NaN   NaN  12.2   0.6  1915      1"
      ]
     },
     "execution_count": 18,
     "metadata": {},
     "output_type": "execute_result"
    }
   ],
   "source": [
    "# This would get GHCN daily data, can ignore for now\n",
    "jer_ghcnd = ghcn.get_dailysummary(studystn[i],startdt='1914-12-31',enddt='2021-12-31')\n",
    "jer_ghcnd.index = pd.to_datetime(jer_ghcnd.DATE)\n",
    "jer_ghcnd['year'] = jer_ghcnd.index.year\n",
    "jer_ghcnd['month'] = jer_ghcnd.index.month\n",
    "jer_ghcnd.head()\n"
   ]
  },
  {
   "cell_type": "code",
   "execution_count": 19,
   "metadata": {},
   "outputs": [
    {
     "data": {
      "text/html": [
       "<div>\n",
       "<style scoped>\n",
       "    .dataframe tbody tr th:only-of-type {\n",
       "        vertical-align: middle;\n",
       "    }\n",
       "\n",
       "    .dataframe tbody tr th {\n",
       "        vertical-align: top;\n",
       "    }\n",
       "\n",
       "    .dataframe thead th {\n",
       "        text-align: right;\n",
       "    }\n",
       "</style>\n",
       "<table border=\"1\" class=\"dataframe\">\n",
       "  <thead>\n",
       "    <tr style=\"text-align: right;\">\n",
       "      <th></th>\n",
       "      <th>STATION</th>\n",
       "      <th>DATE</th>\n",
       "      <th>PRCP</th>\n",
       "      <th>TAVG</th>\n",
       "      <th>TMAX</th>\n",
       "      <th>TMIN</th>\n",
       "    </tr>\n",
       "  </thead>\n",
       "  <tbody>\n",
       "    <tr>\n",
       "      <th>94</th>\n",
       "      <td>USC00294426</td>\n",
       "      <td>2017</td>\n",
       "      <td>341.4</td>\n",
       "      <td>NaN</td>\n",
       "      <td>NaN</td>\n",
       "      <td>NaN</td>\n",
       "    </tr>\n",
       "    <tr>\n",
       "      <th>95</th>\n",
       "      <td>USC00294426</td>\n",
       "      <td>2018</td>\n",
       "      <td>285.2</td>\n",
       "      <td>NaN</td>\n",
       "      <td>NaN</td>\n",
       "      <td>NaN</td>\n",
       "    </tr>\n",
       "    <tr>\n",
       "      <th>96</th>\n",
       "      <td>USC00294426</td>\n",
       "      <td>2019</td>\n",
       "      <td>277.1</td>\n",
       "      <td>NaN</td>\n",
       "      <td>NaN</td>\n",
       "      <td>NaN</td>\n",
       "    </tr>\n",
       "    <tr>\n",
       "      <th>97</th>\n",
       "      <td>USC00294426</td>\n",
       "      <td>2020</td>\n",
       "      <td>206.9</td>\n",
       "      <td>NaN</td>\n",
       "      <td>NaN</td>\n",
       "      <td>NaN</td>\n",
       "    </tr>\n",
       "    <tr>\n",
       "      <th>98</th>\n",
       "      <td>USC00294426</td>\n",
       "      <td>2021</td>\n",
       "      <td>196.6</td>\n",
       "      <td>NaN</td>\n",
       "      <td>NaN</td>\n",
       "      <td>NaN</td>\n",
       "    </tr>\n",
       "  </tbody>\n",
       "</table>\n",
       "</div>"
      ],
      "text/plain": [
       "        STATION  DATE   PRCP  TAVG  TMAX  TMIN\n",
       "94  USC00294426  2017  341.4   NaN   NaN   NaN\n",
       "95  USC00294426  2018  285.2   NaN   NaN   NaN\n",
       "96  USC00294426  2019  277.1   NaN   NaN   NaN\n",
       "97  USC00294426  2020  206.9   NaN   NaN   NaN\n",
       "98  USC00294426  2021  196.6   NaN   NaN   NaN"
      ]
     },
     "execution_count": 19,
     "metadata": {},
     "output_type": "execute_result"
    }
   ],
   "source": [
    "ann = ghcn.get_annualsummary(studystn[i],startdt='1914-12-31',enddt='2021-12-31')\n",
    "ann.tail()"
   ]
  },
  {
   "cell_type": "code",
   "execution_count": 20,
   "metadata": {},
   "outputs": [],
   "source": [
    "ann = ann.melt(id_vars=['STATION','DATE'],value_vars=['PRCP','TAVG'])"
   ]
  },
  {
   "cell_type": "code",
   "execution_count": 21,
   "metadata": {},
   "outputs": [
    {
     "data": {
      "image/png": "[encoded data removed]",
      "text/plain": [
       "<Figure size 838.35x360 with 2 Axes>"
      ]
     },
     "metadata": {},
     "output_type": "display_data"
    }
   ],
   "source": [
    "g = sns.lmplot(x='DATE', y='value', hue='STATION', col='variable',\n",
    "lowess=True, data=ann, facet_kws={'sharey':False})"
   ]
  },
  {
   "cell_type": "markdown",
   "metadata": {},
   "source": [
    "There might be some temperature gapfilling going on for USHCN, but not sure yet."
   ]
  }
 ],
 "metadata": {
  "kernelspec": {
   "display_name": "StandardEnv",
   "language": "python",
   "name": "standardenv"
  },
  "language_info": {
   "codemirror_mode": {
    "name": "ipython",
    "version": 3
   },
   "file_extension": ".py",
   "mimetype": "text/x-python",
   "name": "python",
   "nbconvert_exporter": "python",
   "pygments_lexer": "ipython3",
   "version": "3.9.12"
  }
 },
 "nbformat": 4,
 "nbformat_minor": 4
}
