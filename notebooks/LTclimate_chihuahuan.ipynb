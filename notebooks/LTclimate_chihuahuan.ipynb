{
 "cells": [
  {
   "cell_type": "markdown",
   "metadata": {
    "tags": []
   },
   "source": [
    "## Chihuahuan desert USHCN station data\n",
    "\n",
    "JORNADA EXPERIMENTAL RANGE: USH00294426\n",
    "\n"
   ]
  },
  {
   "cell_type": "code",
   "execution_count": 1,
   "metadata": {},
   "outputs": [],
   "source": [
    "# Importing part of our climate tools module\n",
    "# If you don't have it see here: https://github.com/gremau/climtools\n",
    "import climtools.get_ushcn as ushcn\n",
    "\n",
    "# Import standard python modules for data and file handling\n",
    "import pandas as pd\n",
    "import numpy as np\n",
    "import os\n",
    "\n",
    "# Path to our USHCN data store we downloaded\n",
    "# Later versions of the data have had issues...\n",
    "ushcn_path = '/home/greg/data/rawdata/NCDC/ushcn_v2.5/ushcn.v2.5.5.20220609'"
   ]
  },
  {
   "cell_type": "code",
   "execution_count": 2,
   "metadata": {},
   "outputs": [
    {
     "name": "stdout",
     "output_type": "stream",
     "text": [
      "Retrieving /home/greg/data/rawdata/NCDC/ushcn_v2.5/ushcn-v2.5-stations.txt\n"
     ]
    },
    {
     "data": {
      "text/html": [
       "<div>\n",
       "<style scoped>\n",
       "    .dataframe tbody tr th:only-of-type {\n",
       "        vertical-align: middle;\n",
       "    }\n",
       "\n",
       "    .dataframe tbody tr th {\n",
       "        vertical-align: top;\n",
       "    }\n",
       "\n",
       "    .dataframe thead th {\n",
       "        text-align: right;\n",
       "    }\n",
       "</style>\n",
       "<table border=\"1\" class=\"dataframe\">\n",
       "  <thead>\n",
       "    <tr style=\"text-align: right;\">\n",
       "      <th></th>\n",
       "      <th>id</th>\n",
       "      <th>lat</th>\n",
       "      <th>lon</th>\n",
       "      <th>elev</th>\n",
       "      <th>state</th>\n",
       "      <th>name</th>\n",
       "      <th>comp1</th>\n",
       "      <th>comp2</th>\n",
       "      <th>comp3</th>\n",
       "      <th>utcoffset</th>\n",
       "    </tr>\n",
       "  </thead>\n",
       "  <tbody>\n",
       "    <tr>\n",
       "      <th>0</th>\n",
       "      <td>USH00011084</td>\n",
       "      <td>31.0581</td>\n",
       "      <td>-87.0547</td>\n",
       "      <td>25.9</td>\n",
       "      <td>AL</td>\n",
       "      <td>BREWTON 3 SSE</td>\n",
       "      <td>------</td>\n",
       "      <td>------</td>\n",
       "      <td>------</td>\n",
       "      <td>6</td>\n",
       "    </tr>\n",
       "    <tr>\n",
       "      <th>1</th>\n",
       "      <td>USH00012813</td>\n",
       "      <td>30.5467</td>\n",
       "      <td>-87.8808</td>\n",
       "      <td>7.0</td>\n",
       "      <td>AL</td>\n",
       "      <td>FAIRHOPE 2 NE</td>\n",
       "      <td>------</td>\n",
       "      <td>------</td>\n",
       "      <td>------</td>\n",
       "      <td>6</td>\n",
       "    </tr>\n",
       "    <tr>\n",
       "      <th>2</th>\n",
       "      <td>USH00013160</td>\n",
       "      <td>32.8347</td>\n",
       "      <td>-88.1342</td>\n",
       "      <td>38.1</td>\n",
       "      <td>AL</td>\n",
       "      <td>GAINESVILLE LOCK</td>\n",
       "      <td>011694</td>\n",
       "      <td>------</td>\n",
       "      <td>------</td>\n",
       "      <td>6</td>\n",
       "    </tr>\n",
       "    <tr>\n",
       "      <th>3</th>\n",
       "      <td>USH00013511</td>\n",
       "      <td>32.7017</td>\n",
       "      <td>-87.5808</td>\n",
       "      <td>67.1</td>\n",
       "      <td>AL</td>\n",
       "      <td>GREENSBORO</td>\n",
       "      <td>------</td>\n",
       "      <td>------</td>\n",
       "      <td>------</td>\n",
       "      <td>6</td>\n",
       "    </tr>\n",
       "    <tr>\n",
       "      <th>4</th>\n",
       "      <td>USH00013816</td>\n",
       "      <td>31.8700</td>\n",
       "      <td>-86.2542</td>\n",
       "      <td>132.0</td>\n",
       "      <td>AL</td>\n",
       "      <td>HIGHLAND HOME</td>\n",
       "      <td>------</td>\n",
       "      <td>------</td>\n",
       "      <td>------</td>\n",
       "      <td>6</td>\n",
       "    </tr>\n",
       "  </tbody>\n",
       "</table>\n",
       "</div>"
      ],
      "text/plain": [
       "            id      lat      lon   elev state              name   comp1  \\\n",
       "0  USH00011084  31.0581 -87.0547   25.9    AL     BREWTON 3 SSE  ------   \n",
       "1  USH00012813  30.5467 -87.8808    7.0    AL     FAIRHOPE 2 NE  ------   \n",
       "2  USH00013160  32.8347 -88.1342   38.1    AL  GAINESVILLE LOCK  011694   \n",
       "3  USH00013511  32.7017 -87.5808   67.1    AL        GREENSBORO  ------   \n",
       "4  USH00013816  31.8700 -86.2542  132.0    AL     HIGHLAND HOME  ------   \n",
       "\n",
       "    comp2   comp3  utcoffset  \n",
       "0  ------  ------          6  \n",
       "1  ------  ------          6  \n",
       "2  ------  ------          6  \n",
       "3  ------  ------          6  \n",
       "4  ------  ------          6  "
      ]
     },
     "execution_count": 2,
     "metadata": {},
     "output_type": "execute_result"
    }
   ],
   "source": [
    "# Get the inventory file for USHCN stations\n",
    "inventory = ushcn.get_stationsfile(os.path.dirname(ushcn_path))\n",
    "inventory.head()"
   ]
  },
  {
   "cell_type": "code",
   "execution_count": 3,
   "metadata": {},
   "outputs": [
    {
     "name": "stdout",
     "output_type": "stream",
     "text": [
      "               id      lat       lon    elev state        name   comp1  \\\n",
      "1012  USH00412797  31.8111 -106.3758  1194.2    TX  EL PASO AP  ------   \n",
      "\n",
      "       comp2   comp3  utcoffset  \n",
      "1012  ------  ------          7  \n"
     ]
    }
   ],
   "source": [
    "# Choose a search term ('JORNADA', 'EL PASO', etc) and get the matching\n",
    "# station id, name and latitude from the inventory\n",
    "search = inventory[inventory['name'].str.contains('EL PASO')]\n",
    "print(search)\n",
    "studystn = search.id.values.tolist()[0]\n",
    "studystnnames = search.name.values.tolist()[0]\n",
    "studystnlat = search.lat.values.tolist()[0]"
   ]
  },
  {
   "cell_type": "code",
   "execution_count": 4,
   "metadata": {},
   "outputs": [
    {
     "name": "stdout",
     "output_type": "stream",
     "text": [
      "Opening /home/greg/data/rawdata/NCDC/ushcn_v2.5/ushcn.v2.5.5.20220609/USH00412797.FLs.52j.tavg\n",
      "Opening /home/greg/data/rawdata/NCDC/ushcn_v2.5/ushcn.v2.5.5.20220609/USH00412797.FLs.52j.prcp\n"
     ]
    }
   ],
   "source": [
    "# See functions, this will fetch precip and avg T, subset to site\n",
    "# drop flags, and convert to correct units\n",
    "tavg = ushcn.get_monthly_var('tavg', stationids=studystn, dpath=ushcn_path)\n",
    "prcp = ushcn.get_monthly_var('prcp', stationids=studystn, dpath=ushcn_path)\n",
    "# Then subset to years before 2022\n",
    "tavg = tavg.loc[tavg.year < 2022,:]\n",
    "prcp = prcp.loc[prcp.year < 2022,:]"
   ]
  },
  {
   "cell_type": "code",
   "execution_count": 5,
   "metadata": {},
   "outputs": [
    {
     "name": "stdout",
     "output_type": "stream",
     "text": [
      "0 USH00412797 EL PASO AP 31.8111\n"
     ]
    }
   ],
   "source": [
    "# Here we are adding a station_name and latitude column and populating\n",
    "tavg['station_name'] = ''\n",
    "tavg['latitude'] = np.nan\n",
    "prcp['station_name'] = ''\n",
    "prcp['latitude'] = np.nan\n",
    "for i in range(0, 1):\n",
    "    print(str(i) + ' ' + studystn + ' ' + studystnnames + ' ' + str(studystnlat))\n",
    "    tavg.loc[tavg.stationid==studystn, 'station_name'] = studystnnames\n",
    "    tavg.loc[tavg.stationid==studystn, 'latitude'] = studystnlat\n",
    "    prcp.loc[prcp.stationid==studystn, 'station_name'] = studystnnames\n",
    "    prcp.loc[prcp.stationid==studystn, 'latitude'] = studystnlat\n",
    "\n",
    "# Put together the T and PRCP dataframes into one\n",
    "out = pd.concat([tavg, prcp])"
   ]
  },
  {
   "cell_type": "code",
   "execution_count": 6,
   "metadata": {},
   "outputs": [
    {
     "data": {
      "text/html": [
       "<div>\n",
       "<style scoped>\n",
       "    .dataframe tbody tr th:only-of-type {\n",
       "        vertical-align: middle;\n",
       "    }\n",
       "\n",
       "    .dataframe tbody tr th {\n",
       "        vertical-align: top;\n",
       "    }\n",
       "\n",
       "    .dataframe thead th {\n",
       "        text-align: right;\n",
       "    }\n",
       "</style>\n",
       "<table border=\"1\" class=\"dataframe\">\n",
       "  <thead>\n",
       "    <tr style=\"text-align: right;\">\n",
       "      <th></th>\n",
       "      <th>stationid</th>\n",
       "      <th>date</th>\n",
       "      <th>year</th>\n",
       "      <th>month</th>\n",
       "      <th>day</th>\n",
       "      <th>variable</th>\n",
       "      <th>value</th>\n",
       "      <th>station_name</th>\n",
       "      <th>latitude</th>\n",
       "    </tr>\n",
       "  </thead>\n",
       "  <tbody>\n",
       "    <tr>\n",
       "      <th>1166</th>\n",
       "      <td>USH00412797</td>\n",
       "      <td>2021-08-31</td>\n",
       "      <td>2021</td>\n",
       "      <td>aug</td>\n",
       "      <td>31</td>\n",
       "      <td>prcp</td>\n",
       "      <td>62.7</td>\n",
       "      <td>EL PASO AP</td>\n",
       "      <td>31.8111</td>\n",
       "    </tr>\n",
       "    <tr>\n",
       "      <th>1312</th>\n",
       "      <td>USH00412797</td>\n",
       "      <td>2021-09-30</td>\n",
       "      <td>2021</td>\n",
       "      <td>sep</td>\n",
       "      <td>30</td>\n",
       "      <td>prcp</td>\n",
       "      <td>12.0</td>\n",
       "      <td>EL PASO AP</td>\n",
       "      <td>31.8111</td>\n",
       "    </tr>\n",
       "    <tr>\n",
       "      <th>1458</th>\n",
       "      <td>USH00412797</td>\n",
       "      <td>2021-10-31</td>\n",
       "      <td>2021</td>\n",
       "      <td>oct</td>\n",
       "      <td>31</td>\n",
       "      <td>prcp</td>\n",
       "      <td>0.0</td>\n",
       "      <td>EL PASO AP</td>\n",
       "      <td>31.8111</td>\n",
       "    </tr>\n",
       "    <tr>\n",
       "      <th>1604</th>\n",
       "      <td>USH00412797</td>\n",
       "      <td>2021-11-30</td>\n",
       "      <td>2021</td>\n",
       "      <td>nov</td>\n",
       "      <td>30</td>\n",
       "      <td>prcp</td>\n",
       "      <td>8.6</td>\n",
       "      <td>EL PASO AP</td>\n",
       "      <td>31.8111</td>\n",
       "    </tr>\n",
       "    <tr>\n",
       "      <th>1750</th>\n",
       "      <td>USH00412797</td>\n",
       "      <td>2021-12-31</td>\n",
       "      <td>2021</td>\n",
       "      <td>dec</td>\n",
       "      <td>31</td>\n",
       "      <td>prcp</td>\n",
       "      <td>15.0</td>\n",
       "      <td>EL PASO AP</td>\n",
       "      <td>31.8111</td>\n",
       "    </tr>\n",
       "  </tbody>\n",
       "</table>\n",
       "</div>"
      ],
      "text/plain": [
       "        stationid       date  year month  day variable  value station_name  \\\n",
       "1166  USH00412797 2021-08-31  2021   aug   31     prcp   62.7   EL PASO AP   \n",
       "1312  USH00412797 2021-09-30  2021   sep   30     prcp   12.0   EL PASO AP   \n",
       "1458  USH00412797 2021-10-31  2021   oct   31     prcp    0.0   EL PASO AP   \n",
       "1604  USH00412797 2021-11-30  2021   nov   30     prcp    8.6   EL PASO AP   \n",
       "1750  USH00412797 2021-12-31  2021   dec   31     prcp   15.0   EL PASO AP   \n",
       "\n",
       "      latitude  \n",
       "1166   31.8111  \n",
       "1312   31.8111  \n",
       "1458   31.8111  \n",
       "1604   31.8111  \n",
       "1750   31.8111  "
      ]
     },
     "execution_count": 6,
     "metadata": {},
     "output_type": "execute_result"
    }
   ],
   "source": [
    "# Write data out to a file\n",
    "out.to_csv('../data/ELPASO_USHCN_monthlyclimate.csv', index=False)\n",
    "out.tail()"
   ]
  }
 ],
 "metadata": {
  "kernelspec": {
   "display_name": "StandardEnv",
   "language": "python",
   "name": "standardenv"
  },
  "language_info": {
   "codemirror_mode": {
    "name": "ipython",
    "version": 3
   },
   "file_extension": ".py",
   "mimetype": "text/x-python",
   "name": "python",
   "nbconvert_exporter": "python",
   "pygments_lexer": "ipython3",
   "version": "3.9.12"
  }
 },
 "nbformat": 4,
 "nbformat_minor": 4
}
